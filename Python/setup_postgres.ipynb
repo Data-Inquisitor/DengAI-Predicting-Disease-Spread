{
 "cells": [
  {
   "cell_type": "code",
   "execution_count": 2,
   "metadata": {},
   "outputs": [],
   "source": [
    "from Common import create_tables as ct\n",
    "import pandas as pd"
   ]
  },
  {
   "cell_type": "code",
   "execution_count": 4,
   "metadata": {},
   "outputs": [
    {
     "name": "stdout",
     "output_type": "stream",
     "text": [
      "Connecting to the PostgreSQL database...\n",
      "Creating Table...\n",
      "Finished Inserting Data...\n"
     ]
    }
   ],
   "source": [
    "table_command = (\"CREATE TABLE training_labels\" \\\n",
    "    \"(city VARCHAR(2) NOT NULL,\" \\\n",
    "    \"year INTEGER NOT NULL,\" \\\n",
    "    \"weekofyear INTEGER NOT NULL,\" \\\n",
    "    \"total_cases INTEGER NOT NULL)\")\n",
    "datafilepath = (\"D:\\Analytics\\GitHub\\DengAI-Predicting Disease Spread\" \\\n",
    "                \"\\Data\\dengue_labels_train.csv\")\n",
    "data = pd.read_csv(datafilepath)\n",
    "values_command = (\"INSERT INTO training_labels(city, year, weekofyear, total_cases) VALUES(%s, %s, %s, %s)\")\n",
    "ini_path = 'Common\\database.ini'\n",
    "ct.database_connection(ini_path, table_command, values_command, data.values)\n"
   ]
  },
  {
   "cell_type": "code",
   "execution_count": 6,
   "metadata": {},
   "outputs": [
    {
     "data": {
      "text/plain": [
       "array([['sj', 1990, 18, 4],\n",
       "       ['sj', 1990, 19, 5],\n",
       "       ['sj', 1990, 20, 4],\n",
       "       ..., \n",
       "       ['iq', 2010, 23, 1],\n",
       "       ['iq', 2010, 24, 1],\n",
       "       ['iq', 2010, 25, 4]], dtype=object)"
      ]
     },
     "execution_count": 6,
     "metadata": {},
     "output_type": "execute_result"
    }
   ],
   "source": [
    "data.values"
   ]
  }
 ],
 "metadata": {
  "kernelspec": {
   "display_name": "Python 3",
   "language": "python",
   "name": "python3"
  },
  "language_info": {
   "codemirror_mode": {
    "name": "ipython",
    "version": 3
   },
   "file_extension": ".py",
   "mimetype": "text/x-python",
   "name": "python",
   "nbconvert_exporter": "python",
   "pygments_lexer": "ipython3",
   "version": "3.6.2"
  }
 },
 "nbformat": 4,
 "nbformat_minor": 2
}
